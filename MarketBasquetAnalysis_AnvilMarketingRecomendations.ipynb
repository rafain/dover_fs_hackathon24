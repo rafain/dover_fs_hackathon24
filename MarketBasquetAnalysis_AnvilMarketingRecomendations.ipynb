{
  "cells": [
    {
      "cell_type": "code",
      "execution_count": 1,
      "metadata": {
        "colab": {
          "base_uri": "https://localhost:8080/",
          "height": 427
        },
        "id": "DC20nseuAIKg",
        "outputId": "fb2815d5-7e65-405e-c119-0c99f6914663"
      },
      "outputs": [
        {
          "output_type": "stream",
          "name": "stdout",
          "text": [
            "Collecting anvil-uplink\n",
            "  Downloading anvil_uplink-0.4.2-py2.py3-none-any.whl (90 kB)\n",
            "\u001b[?25l     \u001b[90m━━━━━━━━━━━━━━━━━━━━━━━━━━━━━━━━━━━━━━━━\u001b[0m \u001b[32m0.0/90.1 kB\u001b[0m \u001b[31m?\u001b[0m eta \u001b[36m-:--:--\u001b[0m\r\u001b[2K     \u001b[91m━━━━━━━━━━━━━━━━━━━━━━━━━━━━━━━━━━━━\u001b[0m\u001b[90m╺\u001b[0m\u001b[90m━━━\u001b[0m \u001b[32m81.9/90.1 kB\u001b[0m \u001b[31m2.3 MB/s\u001b[0m eta \u001b[36m0:00:01\u001b[0m\r\u001b[2K     \u001b[90m━━━━━━━━━━━━━━━━━━━━━━━━━━━━━━━━━━━━━━━━\u001b[0m \u001b[32m90.1/90.1 kB\u001b[0m \u001b[31m1.9 MB/s\u001b[0m eta \u001b[36m0:00:00\u001b[0m\n",
            "\u001b[?25hCollecting argparse (from anvil-uplink)\n",
            "  Downloading argparse-1.4.0-py2.py3-none-any.whl (23 kB)\n",
            "Requirement already satisfied: future in /usr/local/lib/python3.10/dist-packages (from anvil-uplink) (0.18.3)\n",
            "Requirement already satisfied: six in /usr/local/lib/python3.10/dist-packages (from anvil-uplink) (1.16.0)\n",
            "Collecting ws4py (from anvil-uplink)\n",
            "  Downloading ws4py-0.5.1.tar.gz (51 kB)\n",
            "\u001b[2K     \u001b[90m━━━━━━━━━━━━━━━━━━━━━━━━━━━━━━━━━━━━━━━━\u001b[0m \u001b[32m51.4/51.4 kB\u001b[0m \u001b[31m6.2 MB/s\u001b[0m eta \u001b[36m0:00:00\u001b[0m\n",
            "\u001b[?25h  Preparing metadata (setup.py) ... \u001b[?25l\u001b[?25hdone\n",
            "Building wheels for collected packages: ws4py\n",
            "  Building wheel for ws4py (setup.py) ... \u001b[?25l\u001b[?25hdone\n",
            "  Created wheel for ws4py: filename=ws4py-0.5.1-py3-none-any.whl size=45228 sha256=1952d4a37d019af9688ebad7d2d4e773607cab233f5de3d0ef55868ca8edbf94\n",
            "  Stored in directory: /root/.cache/pip/wheels/2e/7c/ad/d9c746276bf024d44296340869fcb169f1e5d80fb147351a57\n",
            "Successfully built ws4py\n",
            "Installing collected packages: ws4py, argparse, anvil-uplink\n",
            "Successfully installed anvil-uplink-0.4.2 argparse-1.4.0 ws4py-0.5.1\n"
          ]
        },
        {
          "output_type": "display_data",
          "data": {
            "application/vnd.colab-display-data+json": {
              "pip_warning": {
                "packages": [
                  "argparse",
                  "google"
                ]
              }
            }
          },
          "metadata": {}
        }
      ],
      "source": [
        "!pip install anvil-uplink"
      ],
      "id": "DC20nseuAIKg"
    },
    {
      "cell_type": "code",
      "execution_count": 1,
      "metadata": {
        "id": "5a31e319-1a37-4b47-8385-d0c8dcefafd5"
      },
      "outputs": [],
      "source": [
        "import pandas as pd\n",
        "import numpy as np\n",
        "import seaborn as sns\n",
        "from mlxtend.frequent_patterns import apriori\n",
        "from mlxtend.frequent_patterns import association_rules\n",
        "from sklearn.metrics.pairwise import cosine_similarity\n",
        "\n",
        "#nodes\n",
        "import networkx as nx\n",
        "import matplotlib.pyplot as plt\n",
        "import plotly.graph_objects as go\n",
        "\n",
        "\n",
        "import warnings\n",
        "\n",
        "warnings.filterwarnings(\"ignore\")"
      ],
      "id": "5a31e319-1a37-4b47-8385-d0c8dcefafd5"
    },
    {
      "cell_type": "markdown",
      "metadata": {
        "id": "10115aab-02f0-43f0-b7a4-e0b0802c3f06"
      },
      "source": [
        "# Cleaning"
      ],
      "id": "10115aab-02f0-43f0-b7a4-e0b0802c3f06"
    },
    {
      "cell_type": "code",
      "execution_count": null,
      "metadata": {
        "id": "e308f1d1-ec4b-4666-a5f3-1502d820d3e6",
        "outputId": "34e3e494-d7a6-473b-a2a0-67bd8273bc0b"
      },
      "outputs": [
        {
          "name": "stdout",
          "output_type": "stream",
          "text": [
            "522064\n"
          ]
        },
        {
          "data": {
            "text/html": [
              "<div>\n",
              "<style scoped>\n",
              "    .dataframe tbody tr th:only-of-type {\n",
              "        vertical-align: middle;\n",
              "    }\n",
              "\n",
              "    .dataframe tbody tr th {\n",
              "        vertical-align: top;\n",
              "    }\n",
              "\n",
              "    .dataframe thead th {\n",
              "        text-align: right;\n",
              "    }\n",
              "</style>\n",
              "<table border=\"1\" class=\"dataframe\">\n",
              "  <thead>\n",
              "    <tr style=\"text-align: right;\">\n",
              "      <th></th>\n",
              "      <th>BillNo</th>\n",
              "      <th>Itemname</th>\n",
              "      <th>Quantity</th>\n",
              "      <th>Date</th>\n",
              "      <th>Price</th>\n",
              "      <th>CustomerID</th>\n",
              "      <th>Country</th>\n",
              "    </tr>\n",
              "  </thead>\n",
              "  <tbody>\n",
              "    <tr>\n",
              "      <th>0</th>\n",
              "      <td>536365</td>\n",
              "      <td>WHITE HANGING HEART T-LIGHT HOLDER</td>\n",
              "      <td>6</td>\n",
              "      <td>2010-12-01 08:26:00</td>\n",
              "      <td>2.55</td>\n",
              "      <td>17850.0</td>\n",
              "      <td>United Kingdom</td>\n",
              "    </tr>\n",
              "    <tr>\n",
              "      <th>1</th>\n",
              "      <td>536365</td>\n",
              "      <td>WHITE METAL LANTERN</td>\n",
              "      <td>6</td>\n",
              "      <td>2010-12-01 08:26:00</td>\n",
              "      <td>3.39</td>\n",
              "      <td>17850.0</td>\n",
              "      <td>United Kingdom</td>\n",
              "    </tr>\n",
              "    <tr>\n",
              "      <th>2</th>\n",
              "      <td>536365</td>\n",
              "      <td>CREAM CUPID HEARTS COAT HANGER</td>\n",
              "      <td>8</td>\n",
              "      <td>2010-12-01 08:26:00</td>\n",
              "      <td>2.75</td>\n",
              "      <td>17850.0</td>\n",
              "      <td>United Kingdom</td>\n",
              "    </tr>\n",
              "    <tr>\n",
              "      <th>3</th>\n",
              "      <td>536365</td>\n",
              "      <td>KNITTED UNION FLAG HOT WATER BOTTLE</td>\n",
              "      <td>6</td>\n",
              "      <td>2010-12-01 08:26:00</td>\n",
              "      <td>3.39</td>\n",
              "      <td>17850.0</td>\n",
              "      <td>United Kingdom</td>\n",
              "    </tr>\n",
              "    <tr>\n",
              "      <th>4</th>\n",
              "      <td>536365</td>\n",
              "      <td>RED WOOLLY HOTTIE WHITE HEART.</td>\n",
              "      <td>6</td>\n",
              "      <td>2010-12-01 08:26:00</td>\n",
              "      <td>3.39</td>\n",
              "      <td>17850.0</td>\n",
              "      <td>United Kingdom</td>\n",
              "    </tr>\n",
              "  </tbody>\n",
              "</table>\n",
              "</div>"
            ],
            "text/plain": [
              "   BillNo                             Itemname  Quantity                Date  \\\n",
              "0  536365   WHITE HANGING HEART T-LIGHT HOLDER         6 2010-12-01 08:26:00   \n",
              "1  536365                  WHITE METAL LANTERN         6 2010-12-01 08:26:00   \n",
              "2  536365       CREAM CUPID HEARTS COAT HANGER         8 2010-12-01 08:26:00   \n",
              "3  536365  KNITTED UNION FLAG HOT WATER BOTTLE         6 2010-12-01 08:26:00   \n",
              "4  536365       RED WOOLLY HOTTIE WHITE HEART.         6 2010-12-01 08:26:00   \n",
              "\n",
              "   Price  CustomerID         Country  \n",
              "0   2.55     17850.0  United Kingdom  \n",
              "1   3.39     17850.0  United Kingdom  \n",
              "2   2.75     17850.0  United Kingdom  \n",
              "3   3.39     17850.0  United Kingdom  \n",
              "4   3.39     17850.0  United Kingdom  "
            ]
          },
          "execution_count": 2,
          "metadata": {},
          "output_type": "execute_result"
        }
      ],
      "source": [
        "file = pd.read_csv('MarketBasquetAnalysis/Assignment1_Data.csv',sep=';', low_memory=False)\n",
        "file['Price'] = file['Price'].replace(',','.',regex=True).astype('float')\n",
        "file['Date'] = pd.to_datetime(file['Date'], format=\"%d.%m.%Y %H:%M\")\n",
        "print(len(file))\n",
        "file.head()\n"
      ],
      "id": "e308f1d1-ec4b-4666-a5f3-1502d820d3e6"
    },
    {
      "cell_type": "code",
      "execution_count": null,
      "metadata": {
        "id": "2ebc2874-ba86-4ede-9579-266433976fc0",
        "outputId": "1c169965-0208-4516-b54b-a01278531266"
      },
      "outputs": [
        {
          "data": {
            "text/plain": [
              "382424"
            ]
          },
          "execution_count": 3,
          "metadata": {},
          "output_type": "execute_result"
        }
      ],
      "source": [
        "file = file[(file['Quantity'].between(0,100))&(file['Price'].between(0.1,20))]\n",
        "file.dropna(axis=0, inplace=True, subset=['Itemname', 'CustomerID'])\n",
        "len(file)"
      ],
      "id": "2ebc2874-ba86-4ede-9579-266433976fc0"
    },
    {
      "cell_type": "code",
      "execution_count": null,
      "metadata": {
        "id": "48997dd7-d2d6-43b1-ab70-824ea6680d0b",
        "outputId": "1fb678c0-6711-43e5-a79c-61bc934c81ca"
      },
      "outputs": [
        {
          "data": {
            "text/html": [
              "<div>\n",
              "<style scoped>\n",
              "    .dataframe tbody tr th:only-of-type {\n",
              "        vertical-align: middle;\n",
              "    }\n",
              "\n",
              "    .dataframe tbody tr th {\n",
              "        vertical-align: top;\n",
              "    }\n",
              "\n",
              "    .dataframe thead th {\n",
              "        text-align: right;\n",
              "    }\n",
              "</style>\n",
              "<table border=\"1\" class=\"dataframe\">\n",
              "  <thead>\n",
              "    <tr style=\"text-align: right;\">\n",
              "      <th></th>\n",
              "      <th>itemid</th>\n",
              "      <th>Itemname</th>\n",
              "    </tr>\n",
              "  </thead>\n",
              "  <tbody>\n",
              "    <tr>\n",
              "      <th>0</th>\n",
              "      <td>0</td>\n",
              "      <td>WHITE HANGING HEART T-LIGHT HOLDER</td>\n",
              "    </tr>\n",
              "    <tr>\n",
              "      <th>1</th>\n",
              "      <td>1</td>\n",
              "      <td>WHITE METAL LANTERN</td>\n",
              "    </tr>\n",
              "    <tr>\n",
              "      <th>2</th>\n",
              "      <td>2</td>\n",
              "      <td>CREAM CUPID HEARTS COAT HANGER</td>\n",
              "    </tr>\n",
              "    <tr>\n",
              "      <th>3</th>\n",
              "      <td>3</td>\n",
              "      <td>KNITTED UNION FLAG HOT WATER BOTTLE</td>\n",
              "    </tr>\n",
              "    <tr>\n",
              "      <th>4</th>\n",
              "      <td>4</td>\n",
              "      <td>RED WOOLLY HOTTIE WHITE HEART.</td>\n",
              "    </tr>\n",
              "    <tr>\n",
              "      <th>...</th>\n",
              "      <td>...</td>\n",
              "      <td>...</td>\n",
              "    </tr>\n",
              "    <tr>\n",
              "      <th>3810</th>\n",
              "      <td>3810</td>\n",
              "      <td>LETTER \"U\" BLING KEY RING</td>\n",
              "    </tr>\n",
              "    <tr>\n",
              "      <th>3811</th>\n",
              "      <td>3811</td>\n",
              "      <td>LETTER \"W\" BLING KEY RING</td>\n",
              "    </tr>\n",
              "    <tr>\n",
              "      <th>3812</th>\n",
              "      <td>3812</td>\n",
              "      <td>LETTER \"Z\" BLING KEY RING</td>\n",
              "    </tr>\n",
              "    <tr>\n",
              "      <th>3813</th>\n",
              "      <td>3813</td>\n",
              "      <td>PINK CRYSTAL SKULL PHONE CHARM</td>\n",
              "    </tr>\n",
              "    <tr>\n",
              "      <th>3814</th>\n",
              "      <td>3814</td>\n",
              "      <td>CREAM HANGING HEART T-LIGHT HOLDER</td>\n",
              "    </tr>\n",
              "  </tbody>\n",
              "</table>\n",
              "<p>3815 rows × 2 columns</p>\n",
              "</div>"
            ],
            "text/plain": [
              "      itemid                             Itemname\n",
              "0          0   WHITE HANGING HEART T-LIGHT HOLDER\n",
              "1          1                  WHITE METAL LANTERN\n",
              "2          2       CREAM CUPID HEARTS COAT HANGER\n",
              "3          3  KNITTED UNION FLAG HOT WATER BOTTLE\n",
              "4          4       RED WOOLLY HOTTIE WHITE HEART.\n",
              "...      ...                                  ...\n",
              "3810    3810            LETTER \"U\" BLING KEY RING\n",
              "3811    3811            LETTER \"W\" BLING KEY RING\n",
              "3812    3812            LETTER \"Z\" BLING KEY RING\n",
              "3813    3813       PINK CRYSTAL SKULL PHONE CHARM\n",
              "3814    3814   CREAM HANGING HEART T-LIGHT HOLDER\n",
              "\n",
              "[3815 rows x 2 columns]"
            ]
          },
          "execution_count": 4,
          "metadata": {},
          "output_type": "execute_result"
        }
      ],
      "source": [
        "productos = file[['Itemname']].drop_duplicates().reset_index(drop=True).reset_index().rename(columns={'index':'itemid'})\n",
        "productos"
      ],
      "id": "48997dd7-d2d6-43b1-ab70-824ea6680d0b"
    },
    {
      "cell_type": "code",
      "execution_count": null,
      "metadata": {
        "id": "255b176b-0afd-4f26-ac7d-18a2f4a0f94c",
        "outputId": "cf6305d2-ec06-4b23-f144-517b88d8e005"
      },
      "outputs": [
        {
          "data": {
            "text/plain": [
              "382424"
            ]
          },
          "execution_count": 5,
          "metadata": {},
          "output_type": "execute_result"
        }
      ],
      "source": [
        "file = file.merge(productos, on='Itemname', how='left')\n",
        "len(file)"
      ],
      "id": "255b176b-0afd-4f26-ac7d-18a2f4a0f94c"
    },
    {
      "cell_type": "code",
      "execution_count": null,
      "metadata": {
        "id": "7e039bf3-0251-4a23-a91f-0c94062bfdd5",
        "outputId": "ad416fc5-a179-4cfc-8a9b-0cb12e9eed33"
      },
      "outputs": [
        {
          "data": {
            "text/plain": [
              "array([17850., 13047., 12583., ..., 13298., 14569., 12713.])"
            ]
          },
          "execution_count": 6,
          "metadata": {},
          "output_type": "execute_result"
        }
      ],
      "source": [
        "file['CustomerID'].unique()"
      ],
      "id": "7e039bf3-0251-4a23-a91f-0c94062bfdd5"
    },
    {
      "cell_type": "code",
      "execution_count": null,
      "metadata": {
        "id": "21b5c620-4efd-49f2-9935-976f4e9d20f8",
        "outputId": "be47bdcc-9b19-4908-f4d3-47ae293cbe58"
      },
      "outputs": [
        {
          "data": {
            "text/html": [
              "<div>\n",
              "<style scoped>\n",
              "    .dataframe tbody tr th:only-of-type {\n",
              "        vertical-align: middle;\n",
              "    }\n",
              "\n",
              "    .dataframe tbody tr th {\n",
              "        vertical-align: top;\n",
              "    }\n",
              "\n",
              "    .dataframe thead th {\n",
              "        text-align: right;\n",
              "    }\n",
              "</style>\n",
              "<table border=\"1\" class=\"dataframe\">\n",
              "  <thead>\n",
              "    <tr style=\"text-align: right;\">\n",
              "      <th></th>\n",
              "      <th>BillNo</th>\n",
              "      <th>Itemname</th>\n",
              "      <th>Quantity</th>\n",
              "      <th>Date</th>\n",
              "      <th>Price</th>\n",
              "      <th>CustomerID</th>\n",
              "      <th>Country</th>\n",
              "      <th>itemid</th>\n",
              "    </tr>\n",
              "  </thead>\n",
              "  <tbody>\n",
              "    <tr>\n",
              "      <th>0</th>\n",
              "      <td>536365</td>\n",
              "      <td>WHITE HANGING HEART T-LIGHT HOLDER</td>\n",
              "      <td>6</td>\n",
              "      <td>2010-12-01 08:26:00</td>\n",
              "      <td>2.55</td>\n",
              "      <td>17850.0</td>\n",
              "      <td>United Kingdom</td>\n",
              "      <td>0</td>\n",
              "    </tr>\n",
              "    <tr>\n",
              "      <th>1</th>\n",
              "      <td>536365</td>\n",
              "      <td>WHITE METAL LANTERN</td>\n",
              "      <td>6</td>\n",
              "      <td>2010-12-01 08:26:00</td>\n",
              "      <td>3.39</td>\n",
              "      <td>17850.0</td>\n",
              "      <td>United Kingdom</td>\n",
              "      <td>1</td>\n",
              "    </tr>\n",
              "    <tr>\n",
              "      <th>2</th>\n",
              "      <td>536365</td>\n",
              "      <td>CREAM CUPID HEARTS COAT HANGER</td>\n",
              "      <td>8</td>\n",
              "      <td>2010-12-01 08:26:00</td>\n",
              "      <td>2.75</td>\n",
              "      <td>17850.0</td>\n",
              "      <td>United Kingdom</td>\n",
              "      <td>2</td>\n",
              "    </tr>\n",
              "    <tr>\n",
              "      <th>3</th>\n",
              "      <td>536365</td>\n",
              "      <td>KNITTED UNION FLAG HOT WATER BOTTLE</td>\n",
              "      <td>6</td>\n",
              "      <td>2010-12-01 08:26:00</td>\n",
              "      <td>3.39</td>\n",
              "      <td>17850.0</td>\n",
              "      <td>United Kingdom</td>\n",
              "      <td>3</td>\n",
              "    </tr>\n",
              "    <tr>\n",
              "      <th>4</th>\n",
              "      <td>536365</td>\n",
              "      <td>RED WOOLLY HOTTIE WHITE HEART.</td>\n",
              "      <td>6</td>\n",
              "      <td>2010-12-01 08:26:00</td>\n",
              "      <td>3.39</td>\n",
              "      <td>17850.0</td>\n",
              "      <td>United Kingdom</td>\n",
              "      <td>4</td>\n",
              "    </tr>\n",
              "  </tbody>\n",
              "</table>\n",
              "</div>"
            ],
            "text/plain": [
              "   BillNo                             Itemname  Quantity                Date  \\\n",
              "0  536365   WHITE HANGING HEART T-LIGHT HOLDER         6 2010-12-01 08:26:00   \n",
              "1  536365                  WHITE METAL LANTERN         6 2010-12-01 08:26:00   \n",
              "2  536365       CREAM CUPID HEARTS COAT HANGER         8 2010-12-01 08:26:00   \n",
              "3  536365  KNITTED UNION FLAG HOT WATER BOTTLE         6 2010-12-01 08:26:00   \n",
              "4  536365       RED WOOLLY HOTTIE WHITE HEART.         6 2010-12-01 08:26:00   \n",
              "\n",
              "   Price  CustomerID         Country  itemid  \n",
              "0   2.55     17850.0  United Kingdom       0  \n",
              "1   3.39     17850.0  United Kingdom       1  \n",
              "2   2.75     17850.0  United Kingdom       2  \n",
              "3   3.39     17850.0  United Kingdom       3  \n",
              "4   3.39     17850.0  United Kingdom       4  "
            ]
          },
          "execution_count": 7,
          "metadata": {},
          "output_type": "execute_result"
        }
      ],
      "source": [
        "file.head()"
      ],
      "id": "21b5c620-4efd-49f2-9935-976f4e9d20f8"
    },
    {
      "cell_type": "code",
      "execution_count": null,
      "metadata": {
        "id": "4db09126-15f3-49fb-8d40-c16d3095b41c",
        "outputId": "4edd4fb7-11c9-46c2-95ae-a06f2a2c2c77"
      },
      "outputs": [
        {
          "data": {
            "text/html": [
              "<div>\n",
              "<style scoped>\n",
              "    .dataframe tbody tr th:only-of-type {\n",
              "        vertical-align: middle;\n",
              "    }\n",
              "\n",
              "    .dataframe tbody tr th {\n",
              "        vertical-align: top;\n",
              "    }\n",
              "\n",
              "    .dataframe thead th {\n",
              "        text-align: right;\n",
              "    }\n",
              "</style>\n",
              "<table border=\"1\" class=\"dataframe\">\n",
              "  <thead>\n",
              "    <tr style=\"text-align: right;\">\n",
              "      <th></th>\n",
              "      <th>itemid</th>\n",
              "      <th>Itemname</th>\n",
              "      <th>Price</th>\n",
              "      <th>Date</th>\n",
              "    </tr>\n",
              "  </thead>\n",
              "  <tbody>\n",
              "    <tr>\n",
              "      <th>381755</th>\n",
              "      <td>0</td>\n",
              "      <td>WHITE HANGING HEART T-LIGHT HOLDER</td>\n",
              "      <td>2.95</td>\n",
              "      <td>2011-12-08 19:55:00</td>\n",
              "    </tr>\n",
              "    <tr>\n",
              "      <th>333538</th>\n",
              "      <td>1</td>\n",
              "      <td>WHITE METAL LANTERN</td>\n",
              "      <td>3.75</td>\n",
              "      <td>2011-11-16 10:55:00</td>\n",
              "    </tr>\n",
              "    <tr>\n",
              "      <th>373406</th>\n",
              "      <td>2</td>\n",
              "      <td>CREAM CUPID HEARTS COAT HANGER</td>\n",
              "      <td>4.15</td>\n",
              "      <td>2011-12-05 14:30:00</td>\n",
              "    </tr>\n",
              "    <tr>\n",
              "      <th>382139</th>\n",
              "      <td>3</td>\n",
              "      <td>KNITTED UNION FLAG HOT WATER BOTTLE</td>\n",
              "      <td>4.25</td>\n",
              "      <td>2011-12-09 11:26:00</td>\n",
              "    </tr>\n",
              "    <tr>\n",
              "      <th>381928</th>\n",
              "      <td>4</td>\n",
              "      <td>RED WOOLLY HOTTIE WHITE HEART.</td>\n",
              "      <td>4.25</td>\n",
              "      <td>2011-12-09 09:07:00</td>\n",
              "    </tr>\n",
              "    <tr>\n",
              "      <th>...</th>\n",
              "      <td>...</td>\n",
              "      <td>...</td>\n",
              "      <td>...</td>\n",
              "      <td>...</td>\n",
              "    </tr>\n",
              "    <tr>\n",
              "      <th>373865</th>\n",
              "      <td>3810</td>\n",
              "      <td>LETTER \"U\" BLING KEY RING</td>\n",
              "      <td>0.29</td>\n",
              "      <td>2011-12-05 15:48:00</td>\n",
              "    </tr>\n",
              "    <tr>\n",
              "      <th>373867</th>\n",
              "      <td>3811</td>\n",
              "      <td>LETTER \"W\" BLING KEY RING</td>\n",
              "      <td>0.29</td>\n",
              "      <td>2011-12-05 15:48:00</td>\n",
              "    </tr>\n",
              "    <tr>\n",
              "      <th>373869</th>\n",
              "      <td>3812</td>\n",
              "      <td>LETTER \"Z\" BLING KEY RING</td>\n",
              "      <td>0.29</td>\n",
              "      <td>2011-12-05 15:48:00</td>\n",
              "    </tr>\n",
              "    <tr>\n",
              "      <th>381283</th>\n",
              "      <td>3813</td>\n",
              "      <td>PINK CRYSTAL SKULL PHONE CHARM</td>\n",
              "      <td>0.19</td>\n",
              "      <td>2011-12-08 15:31:00</td>\n",
              "    </tr>\n",
              "    <tr>\n",
              "      <th>382159</th>\n",
              "      <td>3814</td>\n",
              "      <td>CREAM HANGING HEART T-LIGHT HOLDER</td>\n",
              "      <td>2.95</td>\n",
              "      <td>2011-12-09 11:34:00</td>\n",
              "    </tr>\n",
              "  </tbody>\n",
              "</table>\n",
              "<p>3815 rows × 4 columns</p>\n",
              "</div>"
            ],
            "text/plain": [
              "        itemid                             Itemname  Price                Date\n",
              "381755       0   WHITE HANGING HEART T-LIGHT HOLDER   2.95 2011-12-08 19:55:00\n",
              "333538       1                  WHITE METAL LANTERN   3.75 2011-11-16 10:55:00\n",
              "373406       2       CREAM CUPID HEARTS COAT HANGER   4.15 2011-12-05 14:30:00\n",
              "382139       3  KNITTED UNION FLAG HOT WATER BOTTLE   4.25 2011-12-09 11:26:00\n",
              "381928       4       RED WOOLLY HOTTIE WHITE HEART.   4.25 2011-12-09 09:07:00\n",
              "...        ...                                  ...    ...                 ...\n",
              "373865    3810            LETTER \"U\" BLING KEY RING   0.29 2011-12-05 15:48:00\n",
              "373867    3811            LETTER \"W\" BLING KEY RING   0.29 2011-12-05 15:48:00\n",
              "373869    3812            LETTER \"Z\" BLING KEY RING   0.29 2011-12-05 15:48:00\n",
              "381283    3813       PINK CRYSTAL SKULL PHONE CHARM   0.19 2011-12-08 15:31:00\n",
              "382159    3814   CREAM HANGING HEART T-LIGHT HOLDER   2.95 2011-12-09 11:34:00\n",
              "\n",
              "[3815 rows x 4 columns]"
            ]
          },
          "execution_count": 8,
          "metadata": {},
          "output_type": "execute_result"
        }
      ],
      "source": [
        "last_date_prices = file.groupby(['itemid', 'Itemname'])['Date'].idxmax()\n",
        "productos = file[['itemid','Itemname','Price','Date']].loc[last_date_prices]\n",
        "productos"
      ],
      "id": "4db09126-15f3-49fb-8d40-c16d3095b41c"
    },
    {
      "cell_type": "markdown",
      "metadata": {
        "id": "a75ed3c6-2225-4d5c-885e-5874d6c899ed"
      },
      "source": [
        "# Market Basquet Analysis"
      ],
      "id": "a75ed3c6-2225-4d5c-885e-5874d6c899ed"
    },
    {
      "cell_type": "code",
      "execution_count": null,
      "metadata": {
        "id": "899dc2e7-ea13-47e4-85ae-a0ec22844ec8",
        "outputId": "08945f74-c801-4c74-9cc9-afc51c96f287"
      },
      "outputs": [
        {
          "data": {
            "text/plain": [
              "Index([0, 518, 137, 1365, 9, 66, 2115, 280, 250, 2995], dtype='int64', name='itemid')"
            ]
          },
          "execution_count": 9,
          "metadata": {},
          "output_type": "execute_result"
        }
      ],
      "source": [
        "most_frequent = file.groupby(['itemid'])['Quantity'].count().sort_values(ascending=False).index[0:10]\n",
        "most_frequent"
      ],
      "id": "899dc2e7-ea13-47e4-85ae-a0ec22844ec8"
    },
    {
      "cell_type": "code",
      "execution_count": null,
      "metadata": {
        "id": "8f1b6303-8e06-48b9-9b4b-40cdcde49fa3",
        "outputId": "92ada26f-276d-478c-d216-cc807fe87dae"
      },
      "outputs": [
        {
          "data": {
            "text/html": [
              "<div>\n",
              "<style scoped>\n",
              "    .dataframe tbody tr th:only-of-type {\n",
              "        vertical-align: middle;\n",
              "    }\n",
              "\n",
              "    .dataframe tbody tr th {\n",
              "        vertical-align: top;\n",
              "    }\n",
              "\n",
              "    .dataframe thead th {\n",
              "        text-align: right;\n",
              "    }\n",
              "</style>\n",
              "<table border=\"1\" class=\"dataframe\">\n",
              "  <thead>\n",
              "    <tr style=\"text-align: right;\">\n",
              "      <th>itemid</th>\n",
              "      <th>0</th>\n",
              "      <th>1</th>\n",
              "      <th>2</th>\n",
              "      <th>3</th>\n",
              "      <th>4</th>\n",
              "      <th>5</th>\n",
              "      <th>6</th>\n",
              "      <th>7</th>\n",
              "      <th>8</th>\n",
              "      <th>9</th>\n",
              "      <th>...</th>\n",
              "      <th>3805</th>\n",
              "      <th>3806</th>\n",
              "      <th>3807</th>\n",
              "      <th>3808</th>\n",
              "      <th>3809</th>\n",
              "      <th>3810</th>\n",
              "      <th>3811</th>\n",
              "      <th>3812</th>\n",
              "      <th>3813</th>\n",
              "      <th>3814</th>\n",
              "    </tr>\n",
              "    <tr>\n",
              "      <th>BillNo</th>\n",
              "      <th></th>\n",
              "      <th></th>\n",
              "      <th></th>\n",
              "      <th></th>\n",
              "      <th></th>\n",
              "      <th></th>\n",
              "      <th></th>\n",
              "      <th></th>\n",
              "      <th></th>\n",
              "      <th></th>\n",
              "      <th></th>\n",
              "      <th></th>\n",
              "      <th></th>\n",
              "      <th></th>\n",
              "      <th></th>\n",
              "      <th></th>\n",
              "      <th></th>\n",
              "      <th></th>\n",
              "      <th></th>\n",
              "      <th></th>\n",
              "      <th></th>\n",
              "    </tr>\n",
              "  </thead>\n",
              "  <tbody>\n",
              "    <tr>\n",
              "      <th>536365</th>\n",
              "      <td>True</td>\n",
              "      <td>True</td>\n",
              "      <td>True</td>\n",
              "      <td>True</td>\n",
              "      <td>True</td>\n",
              "      <td>True</td>\n",
              "      <td>True</td>\n",
              "      <td>False</td>\n",
              "      <td>False</td>\n",
              "      <td>False</td>\n",
              "      <td>...</td>\n",
              "      <td>False</td>\n",
              "      <td>False</td>\n",
              "      <td>False</td>\n",
              "      <td>False</td>\n",
              "      <td>False</td>\n",
              "      <td>False</td>\n",
              "      <td>False</td>\n",
              "      <td>False</td>\n",
              "      <td>False</td>\n",
              "      <td>False</td>\n",
              "    </tr>\n",
              "    <tr>\n",
              "      <th>536366</th>\n",
              "      <td>False</td>\n",
              "      <td>False</td>\n",
              "      <td>False</td>\n",
              "      <td>False</td>\n",
              "      <td>False</td>\n",
              "      <td>False</td>\n",
              "      <td>False</td>\n",
              "      <td>True</td>\n",
              "      <td>True</td>\n",
              "      <td>False</td>\n",
              "      <td>...</td>\n",
              "      <td>False</td>\n",
              "      <td>False</td>\n",
              "      <td>False</td>\n",
              "      <td>False</td>\n",
              "      <td>False</td>\n",
              "      <td>False</td>\n",
              "      <td>False</td>\n",
              "      <td>False</td>\n",
              "      <td>False</td>\n",
              "      <td>False</td>\n",
              "    </tr>\n",
              "    <tr>\n",
              "      <th>536367</th>\n",
              "      <td>False</td>\n",
              "      <td>False</td>\n",
              "      <td>False</td>\n",
              "      <td>False</td>\n",
              "      <td>False</td>\n",
              "      <td>False</td>\n",
              "      <td>False</td>\n",
              "      <td>False</td>\n",
              "      <td>False</td>\n",
              "      <td>True</td>\n",
              "      <td>...</td>\n",
              "      <td>False</td>\n",
              "      <td>False</td>\n",
              "      <td>False</td>\n",
              "      <td>False</td>\n",
              "      <td>False</td>\n",
              "      <td>False</td>\n",
              "      <td>False</td>\n",
              "      <td>False</td>\n",
              "      <td>False</td>\n",
              "      <td>False</td>\n",
              "    </tr>\n",
              "    <tr>\n",
              "      <th>536368</th>\n",
              "      <td>False</td>\n",
              "      <td>False</td>\n",
              "      <td>False</td>\n",
              "      <td>False</td>\n",
              "      <td>False</td>\n",
              "      <td>False</td>\n",
              "      <td>False</td>\n",
              "      <td>False</td>\n",
              "      <td>False</td>\n",
              "      <td>False</td>\n",
              "      <td>...</td>\n",
              "      <td>False</td>\n",
              "      <td>False</td>\n",
              "      <td>False</td>\n",
              "      <td>False</td>\n",
              "      <td>False</td>\n",
              "      <td>False</td>\n",
              "      <td>False</td>\n",
              "      <td>False</td>\n",
              "      <td>False</td>\n",
              "      <td>False</td>\n",
              "    </tr>\n",
              "    <tr>\n",
              "      <th>536369</th>\n",
              "      <td>False</td>\n",
              "      <td>False</td>\n",
              "      <td>False</td>\n",
              "      <td>False</td>\n",
              "      <td>False</td>\n",
              "      <td>False</td>\n",
              "      <td>False</td>\n",
              "      <td>False</td>\n",
              "      <td>False</td>\n",
              "      <td>False</td>\n",
              "      <td>...</td>\n",
              "      <td>False</td>\n",
              "      <td>False</td>\n",
              "      <td>False</td>\n",
              "      <td>False</td>\n",
              "      <td>False</td>\n",
              "      <td>False</td>\n",
              "      <td>False</td>\n",
              "      <td>False</td>\n",
              "      <td>False</td>\n",
              "      <td>False</td>\n",
              "    </tr>\n",
              "  </tbody>\n",
              "</table>\n",
              "<p>5 rows × 3815 columns</p>\n",
              "</div>"
            ],
            "text/plain": [
              "itemid   0      1      2      3      4      5      6      7      8      9     \\\n",
              "BillNo                                                                         \n",
              "536365   True   True   True   True   True   True   True  False  False  False   \n",
              "536366  False  False  False  False  False  False  False   True   True  False   \n",
              "536367  False  False  False  False  False  False  False  False  False   True   \n",
              "536368  False  False  False  False  False  False  False  False  False  False   \n",
              "536369  False  False  False  False  False  False  False  False  False  False   \n",
              "\n",
              "itemid  ...   3805   3806   3807   3808   3809   3810   3811   3812   3813  \\\n",
              "BillNo  ...                                                                  \n",
              "536365  ...  False  False  False  False  False  False  False  False  False   \n",
              "536366  ...  False  False  False  False  False  False  False  False  False   \n",
              "536367  ...  False  False  False  False  False  False  False  False  False   \n",
              "536368  ...  False  False  False  False  False  False  False  False  False   \n",
              "536369  ...  False  False  False  False  False  False  False  False  False   \n",
              "\n",
              "itemid   3814  \n",
              "BillNo         \n",
              "536365  False  \n",
              "536366  False  \n",
              "536367  False  \n",
              "536368  False  \n",
              "536369  False  \n",
              "\n",
              "[5 rows x 3815 columns]"
            ]
          },
          "execution_count": 10,
          "metadata": {},
          "output_type": "execute_result"
        }
      ],
      "source": [
        "dfprep = file.groupby(['BillNo','itemid'])['Quantity'].sum().unstack().fillna(0)\n",
        "dfprep = dfprep.applymap(lambda x: True if x>0 else False)\n",
        "dfprep.head()"
      ],
      "id": "8f1b6303-8e06-48b9-9b4b-40cdcde49fa3"
    },
    {
      "cell_type": "code",
      "execution_count": null,
      "metadata": {
        "id": "971caf12-3678-4a0b-8c52-c64d813c1eca"
      },
      "outputs": [],
      "source": [
        "frequent_items = apriori(dfprep, min_support = 0.01, use_colnames= True)"
      ],
      "id": "971caf12-3678-4a0b-8c52-c64d813c1eca"
    },
    {
      "cell_type": "code",
      "execution_count": null,
      "metadata": {
        "id": "56bbf04d-b3fe-451a-8f7f-92397a98ccc6",
        "outputId": "65febaac-4d82-4a63-b51e-ae9a2e812f1b"
      },
      "outputs": [
        {
          "name": "stdout",
          "output_type": "stream",
          "text": [
            "986\n"
          ]
        },
        {
          "data": {
            "text/html": [
              "<div>\n",
              "<style scoped>\n",
              "    .dataframe tbody tr th:only-of-type {\n",
              "        vertical-align: middle;\n",
              "    }\n",
              "\n",
              "    .dataframe tbody tr th {\n",
              "        vertical-align: top;\n",
              "    }\n",
              "\n",
              "    .dataframe thead th {\n",
              "        text-align: right;\n",
              "    }\n",
              "</style>\n",
              "<table border=\"1\" class=\"dataframe\">\n",
              "  <thead>\n",
              "    <tr style=\"text-align: right;\">\n",
              "      <th></th>\n",
              "      <th>antecedents</th>\n",
              "      <th>consequents</th>\n",
              "      <th>antecedent support</th>\n",
              "      <th>consequent support</th>\n",
              "      <th>support</th>\n",
              "      <th>confidence</th>\n",
              "      <th>lift</th>\n",
              "      <th>leverage</th>\n",
              "      <th>conviction</th>\n",
              "      <th>zhangs_metric</th>\n",
              "    </tr>\n",
              "  </thead>\n",
              "  <tbody>\n",
              "    <tr>\n",
              "      <th>578</th>\n",
              "      <td>3037</td>\n",
              "      <td>3038</td>\n",
              "      <td>0.011337</td>\n",
              "      <td>0.013774</td>\n",
              "      <td>0.010203</td>\n",
              "      <td>0.900000</td>\n",
              "      <td>65.340741</td>\n",
              "      <td>0.010047</td>\n",
              "      <td>9.862261</td>\n",
              "      <td>0.995987</td>\n",
              "    </tr>\n",
              "    <tr>\n",
              "      <th>579</th>\n",
              "      <td>3038</td>\n",
              "      <td>3037</td>\n",
              "      <td>0.013774</td>\n",
              "      <td>0.011337</td>\n",
              "      <td>0.010203</td>\n",
              "      <td>0.740741</td>\n",
              "      <td>65.340741</td>\n",
              "      <td>0.010047</td>\n",
              "      <td>3.813416</td>\n",
              "      <td>0.998448</td>\n",
              "    </tr>\n",
              "    <tr>\n",
              "      <th>576</th>\n",
              "      <td>3034</td>\n",
              "      <td>3035</td>\n",
              "      <td>0.013774</td>\n",
              "      <td>0.013547</td>\n",
              "      <td>0.010316</td>\n",
              "      <td>0.748971</td>\n",
              "      <td>55.285982</td>\n",
              "      <td>0.010130</td>\n",
              "      <td>3.929640</td>\n",
              "      <td>0.995626</td>\n",
              "    </tr>\n",
              "    <tr>\n",
              "      <th>577</th>\n",
              "      <td>3035</td>\n",
              "      <td>3034</td>\n",
              "      <td>0.013547</td>\n",
              "      <td>0.013774</td>\n",
              "      <td>0.010316</td>\n",
              "      <td>0.761506</td>\n",
              "      <td>55.285982</td>\n",
              "      <td>0.010130</td>\n",
              "      <td>4.135229</td>\n",
              "      <td>0.995397</td>\n",
              "    </tr>\n",
              "    <tr>\n",
              "      <th>610</th>\n",
              "      <td>10, 11</td>\n",
              "      <td>1124</td>\n",
              "      <td>0.013944</td>\n",
              "      <td>0.013831</td>\n",
              "      <td>0.010203</td>\n",
              "      <td>0.731707</td>\n",
              "      <td>52.904838</td>\n",
              "      <td>0.010010</td>\n",
              "      <td>3.675722</td>\n",
              "      <td>0.994972</td>\n",
              "    </tr>\n",
              "  </tbody>\n",
              "</table>\n",
              "</div>"
            ],
            "text/plain": [
              "    antecedents consequents  antecedent support  consequent support   support  \\\n",
              "578        3037        3038            0.011337            0.013774  0.010203   \n",
              "579        3038        3037            0.013774            0.011337  0.010203   \n",
              "576        3034        3035            0.013774            0.013547  0.010316   \n",
              "577        3035        3034            0.013547            0.013774  0.010316   \n",
              "610      10, 11        1124            0.013944            0.013831  0.010203   \n",
              "\n",
              "     confidence       lift  leverage  conviction  zhangs_metric  \n",
              "578    0.900000  65.340741  0.010047    9.862261       0.995987  \n",
              "579    0.740741  65.340741  0.010047    3.813416       0.998448  \n",
              "576    0.748971  55.285982  0.010130    3.929640       0.995626  \n",
              "577    0.761506  55.285982  0.010130    4.135229       0.995397  \n",
              "610    0.731707  52.904838  0.010010    3.675722       0.994972  "
            ]
          },
          "execution_count": 12,
          "metadata": {},
          "output_type": "execute_result"
        }
      ],
      "source": [
        "rules = association_rules(frequent_items, metric=\"lift\",  min_threshold = 1.5)\n",
        "rules.sort_values('lift',ascending=False,inplace=True)\n",
        "print(len(rules))\n",
        "rules['antecedents'] = rules['antecedents'].astype('str').str.replace(\"frozenset({\",\"\").str.replace(\"})\",\"\")\n",
        "rules['consequents'] = rules['consequents'].astype('str').str.replace(\"frozenset({\",\"\").str.replace(\"})\",\"\")\n",
        "rules.head()"
      ],
      "id": "56bbf04d-b3fe-451a-8f7f-92397a98ccc6"
    },
    {
      "cell_type": "markdown",
      "metadata": {
        "id": "2216a404-fd33-4104-804d-cc2691d67c6b"
      },
      "source": [
        "# Cosine Similarities"
      ],
      "id": "2216a404-fd33-4104-804d-cc2691d67c6b"
    },
    {
      "cell_type": "code",
      "execution_count": null,
      "metadata": {
        "id": "b63a2097-d049-4781-b4e3-b7b6f901b761"
      },
      "outputs": [],
      "source": [
        "from sklearn.metrics.pairwise import cosine_similarity"
      ],
      "id": "b63a2097-d049-4781-b4e3-b7b6f901b761"
    },
    {
      "cell_type": "code",
      "execution_count": null,
      "metadata": {
        "id": "3b9078c5-0558-4d09-ae17-ea90437000f9"
      },
      "outputs": [],
      "source": [
        "user_interactions = np.concatenate(([1], np.zeros(len(dfprep.iloc[0,:].values)-1)))\n",
        "CustomerID = 17850.0\n",
        "\n",
        "def get_recommeded_items(CustomerID, user_interactions, n = 2):\n",
        "    dfprep = data[data['CustomerID']==CustomerID].groupby(['BillNo','Itemname'])['Quantity'].sum().unstack().fillna(0)\n",
        "    dfprep = dfprep.applymap(lambda x: True if x>0 else False)\n",
        "    item_similarity = cosine_similarity(dfprep.T)\n",
        "    item_scores = user_interactions.dot(item_similarity)\n",
        "    recommended_items = np.argsort(item_scores)[::-1][:n]\n",
        "    recommended_items_name = data.columns[recommended_items]\n",
        "    return recommended_items_name\n",
        "\n"
      ],
      "id": "3b9078c5-0558-4d09-ae17-ea90437000f9"
    },
    {
      "cell_type": "code",
      "execution_count": null,
      "metadata": {
        "id": "eece714c-abe8-4f34-9da5-9893ecc7d503",
        "outputId": "b530048e-0327-42af-b635-c799db9408f1"
      },
      "outputs": [
        {
          "data": {
            "text/plain": [
              "2"
            ]
          },
          "execution_count": 15,
          "metadata": {},
          "output_type": "execute_result"
        }
      ],
      "source": [
        "carrito = { 12: { 'name':\"botella de agua\", 'qty':3 }, 13: { 'name':\"botella de wiskey\", 'qty':7 }}\n",
        "len(carrito)"
      ],
      "id": "eece714c-abe8-4f34-9da5-9893ecc7d503"
    },
    {
      "cell_type": "markdown",
      "source": [
        "# Recommender Class"
      ],
      "metadata": {
        "id": "CqZdf-6pU_Ho"
      },
      "id": "CqZdf-6pU_Ho"
    },
    {
      "cell_type": "code",
      "execution_count": 46,
      "metadata": {
        "id": "OTQzi66s7ZNf"
      },
      "outputs": [],
      "source": [
        "from sklearn.metrics.pairwise import cosine_similarity\n",
        "class Recommender():\n",
        "\n",
        "    def __init__(self, transaction_df: pd.DataFrame, products_df: pd.DataFrame, rules = None):\n",
        "        self.transaction_df = transaction_df\n",
        "        self.products_df = df_products\n",
        "        if rules:\n",
        "            self.rules = rules\n",
        "        else:\n",
        "            try:\n",
        "                self.calculate_rules()\n",
        "            except:\n",
        "                print('DataFrame provided is not in the correct format')\n",
        "                raise Exception(\"Couldn't initialize Recommender\")\n",
        "\n",
        "    def calculate_rules(self):\n",
        "        try:\n",
        "            self.most_frequent = self.transaction_df.groupby(['itemid'])['Quantity'].count().sort_values(ascending=False).index[0:10]\n",
        "            # Calculate dfprep\n",
        "            self.dfprep = self.transaction_df.groupby(['BillNo','itemid'])['Quantity'].sum().unstack().fillna(0)\n",
        "            self.dfprep = self.dfprep.applymap(lambda x: True if x>0 else False)\n",
        "            frequent_items = apriori(self.dfprep, min_support = 0.01, use_colnames= True)\n",
        "            # Calculate rules\n",
        "            self.rules = association_rules(frequent_items, metric=\"lift\",  min_threshold = 1.5)\n",
        "            self.rules.sort_values('lift',ascending=False,inplace=True)\n",
        "            #self.rules['antecedents'] = self.rules['antecedents'].astype('str').str.replace(\"frozenset({\",\"\").str.replace(\"})\",\"\")\n",
        "            #self.rules['consequents'] = self.rules['consequents'].astype('str').str.replace(\"frozenset({\",\"\").str.replace(\"})\",\"\")\n",
        "        except Exception as e:\n",
        "            print('Unkown Error when calculating rules')\n",
        "            raise e\n",
        "        return True\n",
        "\n",
        "    def new_client_req(self,carrito):\n",
        "        try:\n",
        "            itemid = self.calculate_itemids(carrito)\n",
        "            print(itemid)\n",
        "            recommendation = self.rules[self.rules['antecedents'].isin(itemid.astype(str))]\n",
        "            recommendation = recommendation.sort_values(by='lift',ascending=False).iloc[0:len(recommendation),1].values.tolist()\n",
        "            recommendation = np.array([element for element in recommendation if ',' not in str(element)])\n",
        "            recommendation = np.concatenate([recommendation,np.array([i for i in self.most_frequent if i not in recommendation ])])[0:10]\n",
        "        except Exception as e:\n",
        "            print('Unkown Error processing when pulling rules for new clients recommended items')\n",
        "            raise e\n",
        "        return recommendation\n",
        "\n",
        "    def calculate_user_interactions(self, dfprep, carrito):\n",
        "        tmp = pd.DataFrame(columns=dfprep.columns,index=[0])\n",
        "        tmp.fillna(0,inplace=True)\n",
        "        if len(carrito)==0:\n",
        "            return np.zeros(len(dfprep.columns))\n",
        "        else:\n",
        "            for i in carrito:\n",
        "                tmp.loc[0,str(i)]=1\n",
        "\n",
        "            print(tmp.loc[0,:].values)\n",
        "            return tmp.loc[0,:].values[len(carrito):]\n",
        "\n",
        "    def calculate_itemids(self, carrito):\n",
        "        tmp = []\n",
        "        if len(carrito)>0:\n",
        "            for i in carrito:\n",
        "                tmp += [i]\n",
        "        return np.array(tmp)\n",
        "\n",
        "    def get_recommended_items(self, customer_id,carrito, n = 10):\n",
        "        dfprep = self.transaction_df[self.transaction_df['CustomerID']==customer_id].groupby(['BillNo','itemid'])['Quantity'].sum().unstack().fillna(0)\n",
        "        try:\n",
        "            df_client = self.transaction_df[self.transaction_df['CustomerID']==customer_id].groupby(['BillNo','itemid'])['Quantity'].sum().unstack().fillna(0)\n",
        "            df_client = df_client.applymap(lambda x: True if x>0 else False)\n",
        "            item_similarity = cosine_similarity(df_client.T)\n",
        "            user_interactions = self.calculate_user_interactions(df_client,carrito)\n",
        "            print(user_interactions.shape)\n",
        "            print(item_similarity)\n",
        "            item_scores = user_interactions.dot(item_similarity)\n",
        "            recommended_items = np.argsort(item_scores)[::-1][:n]\n",
        "            recommended_items_name = dfprep.columns[recommended_items]\n",
        "        except Exception as e:\n",
        "            print('Unkown Error processing when getting recommended items')\n",
        "            raise e\n",
        "        return recommended_items_name\n",
        "\n",
        "    def get_product(self,customer_id,carrito=[]):\n",
        "        try:\n",
        "            clients = self.transaction_df['CustomerID'].unique()\n",
        "            if customer_id in clients:\n",
        "                recomendation = self.get_recommended_items(customer_id,carrito)\n",
        "            else:\n",
        "                if len(carrito)==0:\n",
        "                    recomendation = np.array(self.most_frequent)\n",
        "                else:\n",
        "                    recomendation = self.new_client_req(carrito)\n",
        "            products = []\n",
        "            for id in recomendation:\n",
        "                products.append(self.build_product_json(int(id)))\n",
        "            return products\n",
        "        except  Exception as e:\n",
        "            print('Unkown Error when calculating rules')\n",
        "            raise e\n",
        "\n",
        "    def build_product_json(self, product_id):\n",
        "      product_info = self.products_df[ self.products_df[\"itemid\"] == product_id].iloc[0]\n",
        "      return {\n",
        "          'product_id': product_info[\"itemid\"],\n",
        "          'product_name': product_info[\"Itemname\"],\n",
        "          'price': product_info[\"Price\"],\n",
        "          'image_url': product_info[\"urls\"],\n",
        "      }"
      ],
      "id": "OTQzi66s7ZNf"
    },
    {
      "cell_type": "code",
      "execution_count": 3,
      "metadata": {
        "id": "cae05627-8b94-452b-a84c-1214ff1a18db"
      },
      "outputs": [],
      "source": [
        "df_file = pd.read_csv('files.csv', index_col=0)\n",
        "df_products = pd.read_csv('products.csv', index_col=0)"
      ],
      "id": "cae05627-8b94-452b-a84c-1214ff1a18db"
    },
    {
      "cell_type": "code",
      "execution_count": null,
      "metadata": {
        "id": "IckJRZHfvNbo"
      },
      "outputs": [],
      "source": [
        "r = Recommender(transaction_df=df_file, products_df=df_products)"
      ],
      "id": "IckJRZHfvNbo"
    },
    {
      "cell_type": "code",
      "execution_count": null,
      "metadata": {
        "id": "a0201c8f-34ad-4706-b491-c23dd2e124a7"
      },
      "outputs": [],
      "source": [
        "itemid = 3037\n",
        "r.new_client_req()"
      ],
      "id": "a0201c8f-34ad-4706-b491-c23dd2e124a7"
    },
    {
      "cell_type": "code",
      "execution_count": null,
      "metadata": {
        "id": "f69ea12e-e865-4ebc-9a8b-df92c0e3e05a"
      },
      "outputs": [],
      "source": [
        "customer_id = 17850.0\n",
        "carrito = { 55: { 'name':\"botella de agua\",'qty':3}}\n",
        "r.get_recommended_items(customer_id,carrito)\n"
      ],
      "id": "f69ea12e-e865-4ebc-9a8b-df92c0e3e05a"
    },
    {
      "cell_type": "code",
      "execution_count": null,
      "metadata": {
        "colab": {
          "base_uri": "https://localhost:8080/"
        },
        "id": "63fad747-5fbd-4091-881b-1e69d473b4ea",
        "outputId": "6fb2110f-c7eb-4ca2-ff76-3e282fc66b72"
      },
      "outputs": [
        {
          "name": "stdout",
          "output_type": "stream",
          "text": [
            "[3037]\n"
          ]
        },
        {
          "data": {
            "text/plain": [
              "array([   0.,  518.,  137., 1365.,    9.,   66., 2115.,  280.,  250.,\n",
              "       2995.])"
            ]
          },
          "execution_count": 80,
          "metadata": {},
          "output_type": "execute_result"
        }
      ],
      "source": [
        "r.get_product(customer_id,carrito=carrito)\n",
        "# 55, 54"
      ],
      "id": "63fad747-5fbd-4091-881b-1e69d473b4ea"
    },
    {
      "cell_type": "markdown",
      "metadata": {
        "id": "79e371aa-9124-4068-9cb2-375362ef9f17"
      },
      "source": [
        "# DEMOS"
      ],
      "id": "79e371aa-9124-4068-9cb2-375362ef9f17"
    },
    {
      "cell_type": "code",
      "execution_count": null,
      "metadata": {
        "id": "f2974b6c-c6b5-464d-b4b9-f97b7d4d09ff"
      },
      "outputs": [],
      "source": [
        "#  Nuevo Cliente"
      ],
      "id": "f2974b6c-c6b5-464d-b4b9-f97b7d4d09ff"
    },
    {
      "cell_type": "code",
      "execution_count": null,
      "metadata": {
        "colab": {
          "base_uri": "https://localhost:8080/"
        },
        "id": "c763cf96-249b-4030-b7d8-35721869cc12",
        "outputId": "87a04047-2ef3-4edc-abd2-e740cfd42113"
      },
      "outputs": [
        {
          "data": {
            "text/plain": [
              "list"
            ]
          },
          "execution_count": 30,
          "metadata": {},
          "output_type": "execute_result"
        }
      ],
      "source": [
        "customer_id = 123\n",
        "carrito = { }\n",
        "type(r.get_product(customer_id,carrito=carrito))\n"
      ],
      "id": "c763cf96-249b-4030-b7d8-35721869cc12"
    },
    {
      "cell_type": "code",
      "execution_count": null,
      "metadata": {
        "id": "76d8a9ec-0e53-42b8-8533-f35f9e88fc4d"
      },
      "outputs": [],
      "source": [
        "#  Nuevo Cliente - comprando"
      ],
      "id": "76d8a9ec-0e53-42b8-8533-f35f9e88fc4d"
    },
    {
      "cell_type": "code",
      "execution_count": null,
      "metadata": {
        "colab": {
          "base_uri": "https://localhost:8080/"
        },
        "id": "6e2fb793-0622-44f6-b21d-34d77dbf3517",
        "outputId": "ae8c3269-068f-4aea-ddec-0ebac812f822"
      },
      "outputs": [
        {
          "name": "stdout",
          "output_type": "stream",
          "text": [
            "[3037]\n"
          ]
        },
        {
          "data": {
            "text/plain": [
              "list"
            ]
          },
          "execution_count": 31,
          "metadata": {},
          "output_type": "execute_result"
        }
      ],
      "source": [
        "customer_id = 123\n",
        "carrito = { 3037: { 'name':\"botella de agua\",'qty':3}}\n",
        "type(r.get_product(customer_id,carrito=carrito))\n"
      ],
      "id": "6e2fb793-0622-44f6-b21d-34d77dbf3517"
    },
    {
      "cell_type": "code",
      "execution_count": null,
      "metadata": {
        "id": "bda3c3b8-a28b-43b3-bbbf-b98acccaa288"
      },
      "outputs": [],
      "source": [
        "#  Viejo Cliente"
      ],
      "id": "bda3c3b8-a28b-43b3-bbbf-b98acccaa288"
    },
    {
      "cell_type": "code",
      "execution_count": null,
      "metadata": {
        "colab": {
          "base_uri": "https://localhost:8080/"
        },
        "id": "565eb4a6-bf13-4fc4-8b43-42e6b4a15e62",
        "outputId": "078b1450-c82e-49ea-88e4-9aacaf95350e"
      },
      "outputs": [
        {
          "data": {
            "text/plain": [
              "list"
            ]
          },
          "execution_count": 32,
          "metadata": {},
          "output_type": "execute_result"
        }
      ],
      "source": [
        "customer_id = 17850.0\n",
        "carrito = {}\n",
        "type(r.get_product(customer_id,carrito=carrito))\n"
      ],
      "id": "565eb4a6-bf13-4fc4-8b43-42e6b4a15e62"
    },
    {
      "cell_type": "code",
      "execution_count": null,
      "metadata": {
        "id": "f0c423e5-a60d-4091-874b-b3573d7c8001"
      },
      "outputs": [],
      "source": [
        "#  Viejo Cliente - comprando"
      ],
      "id": "f0c423e5-a60d-4091-874b-b3573d7c8001"
    },
    {
      "cell_type": "code",
      "execution_count": null,
      "metadata": {
        "colab": {
          "base_uri": "https://localhost:8080/"
        },
        "id": "8ae5cfe9-e9b2-4b97-ad6a-fbcf79266725",
        "outputId": "f58daf9d-caf9-4334-b78c-7b5d73bf39de"
      },
      "outputs": [
        {
          "name": "stdout",
          "output_type": "stream",
          "text": [
            "get_recommended_items recom\n",
            "Int64Index([55, 54, 53, 0], dtype='int64', name='itemid')\n"
          ]
        },
        {
          "data": {
            "text/plain": [
              "[{'product_id': 55,\n",
              "  'product_name': 'English Muffin with Sausage, Egg & Cheese',\n",
              "  'price': 2.95,\n",
              "  'image_url': 'https://www.7-eleven.com/_next/image?url=https%3A%2F%2Fimages.contentstack.io%2Fv3%2Fassets%2Fbltbb619fd5c667ba2d%2Fblta4ed610d7f96ce55%2F6144f01cf725af79f53fc8c1%2Fenglish-muffin-sausage-egg-cheese.jpg&w=3840&q=75'},\n",
              " {'product_id': 54,\n",
              "  'product_name': 'Strawberry Cup',\n",
              "  'price': 2.95,\n",
              "  'image_url': 'https://www.7-eleven.com/_next/image?url=https%3A%2F%2Fimages.contentstack.io%2Fv3%2Fassets%2Fbltbb619fd5c667ba2d%2Fbltb2e8258d47a6c71c%2F60ca620bae0d50495b4f6fa7%2FStrawberry_Fruit_Cup.jpg&w=3840&q=75'},\n",
              " {'product_id': 53,\n",
              "  'product_name': 'CLIF Bar Chocolate Chip Energy Bar Minis',\n",
              "  'price': 8.95,\n",
              "  'image_url': 'https://target.scene7.com/is/image/Target/GUEST_a7a9491c-5b43-4c74-a645-c34a06f31d2c?wid=1200&hei=1200&qlt=80&fmt=webp'},\n",
              " {'product_id': 0,\n",
              "  'product_name': 'American Coffee',\n",
              "  'price': 2.95,\n",
              "  'image_url': 'https://www.7-eleven.com/_next/image?url=https%3A%2F%2Fimages.contentstack.io%2Fv3%2Fassets%2Fbltbb619fd5c667ba2d%2Fblt66b7c0221629182b%2F65b28a57c025ee6f49b8709e%2FCaffineTeaVsCoffee-Hero-ContentHub.jpg&w=3840&q=75'}]"
            ]
          },
          "execution_count": 21,
          "metadata": {},
          "output_type": "execute_result"
        }
      ],
      "source": [
        "customer_id = 17850.0\n",
        "carrito = { 55: { 'name':\"botella de agua\",'qty':3}}\n",
        "r.get_product(customer_id,carrito=carrito)\n"
      ],
      "id": "8ae5cfe9-e9b2-4b97-ad6a-fbcf79266725"
    },
    {
      "cell_type": "code",
      "execution_count": null,
      "metadata": {
        "id": "b52ba5ae-31d9-4386-8933-744ea2e7e354"
      },
      "outputs": [],
      "source": [
        "# 17850., 13047., 12583., ..., 13298., 14569., 12713."
      ],
      "id": "b52ba5ae-31d9-4386-8933-744ea2e7e354"
    },
    {
      "cell_type": "markdown",
      "metadata": {
        "id": "AqrD1JSAqAqv"
      },
      "source": [
        "# Connection with Anvil"
      ],
      "id": "AqrD1JSAqAqv"
    },
    {
      "cell_type": "code",
      "execution_count": 12,
      "metadata": {
        "id": "odX-2gLPt6Dg"
      },
      "outputs": [],
      "source": [
        "df_file = pd.read_csv('files.csv')\n",
        "df_products = pd.read_csv('products.csv')"
      ],
      "id": "odX-2gLPt6Dg"
    },
    {
      "cell_type": "code",
      "execution_count": 47,
      "metadata": {
        "id": "21bfb9d0-1432-4891-977e-61062c98dbb7"
      },
      "outputs": [],
      "source": [
        "import anvil.server\n",
        "import json\n",
        "\n",
        "recommender = Recommender(transaction_df=df_file, products_df=df_products)\n",
        "product_q = []\n",
        "\n",
        "anvil.server.connect(\"server_TOXF5MKYG6XEKT6T6NSLGJ4W-UKESBXZIBNP534UW\")"
      ],
      "id": "21bfb9d0-1432-4891-977e-61062c98dbb7"
    },
    {
      "cell_type": "code",
      "execution_count": null,
      "metadata": {
        "id": "bNKP8Facr8aC"
      },
      "outputs": [],
      "source": [
        "@anvil.server.callable\n",
        "def get_recomendations(user_id, cart):\n",
        "    cart = json.loads(cart)\n",
        "    print('Im alive, args')\n",
        "    print(user_id, cart)\n",
        "    product_q = recommender.get_product(user_id, carrito=cart)\n",
        "    print(product_q)\n",
        "\n",
        "    # Send top 4 products on q\n",
        "    return product_q\n",
        "\n",
        "anvil.server.wait_forever()"
      ],
      "id": "bNKP8Facr8aC"
    },
    {
      "cell_type": "code",
      "source": [],
      "metadata": {
        "id": "juEQdm5maO3y"
      },
      "id": "juEQdm5maO3y",
      "execution_count": null,
      "outputs": []
    }
  ],
  "metadata": {
    "colab": {
      "provenance": []
    },
    "kernelspec": {
      "display_name": "Python 3 (ipykernel)",
      "language": "python",
      "name": "python3"
    },
    "language_info": {
      "codemirror_mode": {
        "name": "ipython",
        "version": 3
      },
      "file_extension": ".py",
      "mimetype": "text/x-python",
      "name": "python",
      "nbconvert_exporter": "python",
      "pygments_lexer": "ipython3",
      "version": "3.11.0"
    }
  },
  "nbformat": 4,
  "nbformat_minor": 5
}