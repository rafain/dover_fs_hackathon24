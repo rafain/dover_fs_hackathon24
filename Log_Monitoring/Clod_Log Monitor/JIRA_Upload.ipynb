{
 "cells": [
  {
   "cell_type": "code",
   "execution_count": 0,
   "metadata": {
    "application/vnd.databricks.v1+cell": {
     "cellMetadata": {
      "byteLimit": 2048000,
      "rowLimit": 10000
     },
     "inputWidgets": {},
     "nuid": "84be786f-0e27-4e8e-b5f3-d4d67896b305",
     "showTitle": false,
     "title": ""
    }
   },
   "outputs": [
    {
     "output_type": "stream",
     "name": "stdout",
     "output_type": "stream",
     "text": [
      "Ticket created successfully: KAN-20\n0\nTicket created successfully: KAN-21\n0\nTicket created successfully: KAN-22\n3\n"
     ]
    }
   ],
   "source": [
    "import pandas as pd\n",
    "import requests\n",
    "from requests.auth import HTTPBasicAuth\n",
    "import json\n",
    "\n",
    "# Jira API credentials and URL\n",
    "email = 'srishti.gupta@utexas.edu'  # Your Jira account/email\n",
    "api_token = 'ATATT3xFfGF0b5WkrZafqMl0-nSDhjDrAf11I_juRTDBHKJg1HZUCO7T2SKOzUcPbTfrEl-2KfL5s4Ws3M53QwDwkAuURUEP9ngYcauio10lfzhVRtDGb2c_fD0ioFxK_834ZMwVp7_MGJOYK2w73Kvw36pwa46ybH_W3hTfhLccazZ6yXdZzAc=33A51C56'  # Your Jira API token\n",
    "jira_url = 'https://doverhackathon.atlassian.net'  # Your Jira domain\n",
    "project_key = 'KAN'  # Your project key in Jira\n",
    "\n",
    "# Path to your CSV file\n",
    "csv_file_path = 'JIRA_Upload.csv'\n",
    "df = pd.read_csv(csv_file_path)\n",
    "\n",
    "\n",
    "\n",
    "# Function to create a ticket in Jira with the description field in ADF\n",
    "def create_jira_ticket(summary, description, priority):\n",
    "    url = f\"{jira_url}/rest/api/3/issue\"\n",
    "    headers = {\n",
    "       \"Accept\": \"application/json\",\n",
    "       \"Content-Type\": \"application/json\"\n",
    "    }\n",
    "\n",
    "    auth = HTTPBasicAuth(email, api_token)\n",
    "\n",
    "    # Formatting description to Atlassian Document Format\n",
    "    description_adf = {\n",
    "        \"version\": 1,\n",
    "        \"type\": \"doc\",\n",
    "        \"content\": [\n",
    "            {\n",
    "                \"type\": \"paragraph\",\n",
    "                \"content\": [\n",
    "                    {\n",
    "                        \"type\": \"text\",\n",
    "                        \"text\": description\n",
    "                    }\n",
    "                ]\n",
    "            }\n",
    "        ]\n",
    "    }\n",
    "\n",
    "    payload = json.dumps({\n",
    "        \"fields\": {\n",
    "            \"project\": {\n",
    "                \"key\": project_key\n",
    "            },\n",
    "            \"summary\": summary,\n",
    "            \"description\": description_adf,  # Updated to use ADF\n",
    "            \"priority\":  {\"id\": priority}\n",
    "            ,\n",
    "            \"issuetype\": {\n",
    "                \"name\": \"Predictive_Failure\"\n",
    "            }\n",
    "    \n",
    "        }\n",
    "    })\n",
    "\n",
    "    response = requests.request(\n",
    "       \"POST\",\n",
    "       url,\n",
    "       data=payload,\n",
    "       headers=headers,\n",
    "       auth=auth\n",
    "    )\n",
    "\n",
    "    if response.status_code == 201:\n",
    "        print(f\"Ticket created successfully: {response.json()['key']}\")\n",
    "    else:\n",
    "        print(f\"Failed to create ticket: {response.text}\")\n",
    "\n",
    "# Loop through each row in the DataFrame and create a ticket\n",
    "for index, row in df.iterrows():\n",
    "    create_jira_ticket(row['device_id'], row['error_type'], str(row['Priority']+1))\n",
    "\n",
    "    print(str(row['Priority']))"
   ]
  },
  {
   "cell_type": "code",
   "execution_count": 0,
   "metadata": {
    "application/vnd.databricks.v1+cell": {
     "cellMetadata": {
      "byteLimit": 2048000,
      "rowLimit": 10000
     },
     "inputWidgets": {},
     "nuid": "83f595fb-e882-4192-9e10-e253a30a9ffa",
     "showTitle": false,
     "title": ""
    }
   },
   "outputs": [
    {
     "output_type": "execute_result",
     "data": {
      "text/html": [
       "<div>\n",
       "<style scoped>\n",
       "    .dataframe tbody tr th:only-of-type {\n",
       "        vertical-align: middle;\n",
       "    }\n",
       "\n",
       "    .dataframe tbody tr th {\n",
       "        vertical-align: top;\n",
       "    }\n",
       "\n",
       "    .dataframe thead th {\n",
       "        text-align: right;\n",
       "    }\n",
       "</style>\n",
       "<table border=\"1\" class=\"dataframe\">\n",
       "  <thead>\n",
       "    <tr style=\"text-align: right;\">\n",
       "      <th></th>\n",
       "      <th>Unnamed: 0</th>\n",
       "      <th>device_id</th>\n",
       "      <th>error_type</th>\n",
       "      <th>Priority</th>\n",
       "      <th>datetime</th>\n",
       "      <th>Status</th>\n",
       "      <th>total_occurence</th>\n",
       "    </tr>\n",
       "  </thead>\n",
       "  <tbody>\n",
       "    <tr>\n",
       "      <th>0</th>\n",
       "      <td>0</td>\n",
       "      <td>jkagda_dmjgc_328964_sdjkfgsgf</td>\n",
       "      <td>Contactless Reader Critical Faliure</td>\n",
       "      <td>0</td>\n",
       "      <td>2024-02-03 22:41:01.474535</td>\n",
       "      <td>Pending</td>\n",
       "      <td>1</td>\n",
       "    </tr>\n",
       "    <tr>\n",
       "      <th>1</th>\n",
       "      <td>1</td>\n",
       "      <td>jkagda_dmjgc_328964_sdjkfgsgf</td>\n",
       "      <td>Open Chip Reader Critical Faliure</td>\n",
       "      <td>0</td>\n",
       "      <td>2024-02-03 22:41:24.352755</td>\n",
       "      <td>Pending</td>\n",
       "      <td>2</td>\n",
       "    </tr>\n",
       "    <tr>\n",
       "      <th>2</th>\n",
       "      <td>2</td>\n",
       "      <td>jkagda_dmjgc_328964_sdjkfgsgf</td>\n",
       "      <td>Time Reading Backwards</td>\n",
       "      <td>3</td>\n",
       "      <td>2024-02-03 22:45:53.772299</td>\n",
       "      <td>Pending</td>\n",
       "      <td>3137</td>\n",
       "    </tr>\n",
       "  </tbody>\n",
       "</table>\n",
       "</div>"
      ],
      "text/plain": [
       "   Unnamed: 0                      device_id  ...   Status  total_occurence\n",
       "0           0  jkagda_dmjgc_328964_sdjkfgsgf  ...  Pending                1\n",
       "1           1  jkagda_dmjgc_328964_sdjkfgsgf  ...  Pending                2\n",
       "2           2  jkagda_dmjgc_328964_sdjkfgsgf  ...  Pending             3137\n",
       "\n",
       "[3 rows x 7 columns]"
      ]
     },
     "execution_count": 13,
     "metadata": {},
     "output_type": "execute_result"
    }
   ],
   "source": [
    "df"
   ]
  },
  {
   "cell_type": "code",
   "execution_count": 0,
   "metadata": {
    "application/vnd.databricks.v1+cell": {
     "cellMetadata": {
      "byteLimit": 2048000,
      "rowLimit": 10000
     },
     "inputWidgets": {},
     "nuid": "6259b40a-6955-49d4-896d-b857f5cd1a0f",
     "showTitle": false,
     "title": ""
    }
   },
   "outputs": [
    {
     "output_type": "execute_result",
     "data": {
      "text/plain": [
       "\"{'Unnamed: 0': {0: 0, 1: 1, 2: 2}, 'device_id': {0: 'jkagda_dmjgc_328964_sdjkfgsgf', 1: 'jkagda_dmjgc_328964_sdjkfgsgf', 2: 'jkagda_dmjgc_328964_sdjkfgsgf'}, 'error_type': {0: 'Contactless Reader Critical Faliure', 1: 'Open Chip Reader Critical Faliure', 2: 'Time Reading Backwards'}, 'Priority': {0: 0, 1: 0, 2: 3}, 'datetime': {0: '2024-02-03 22:41:01.474535', 1: '2024-02-03 22:41:24.352755', 2: '2024-02-03 22:45:53.772299'}, 'Status': {0: 'Pending', 1: 'Pending', 2: 'Pending'}, 'total_occurence': {0: 1, 1: 2, 2: 3137}}\""
      ]
     },
     "execution_count": 14,
     "metadata": {},
     "output_type": "execute_result"
    }
   ],
   "source": [
    "msg = str(df.to_dict())\n",
    "msg"
   ]
  },
  {
   "cell_type": "code",
   "execution_count": 0,
   "metadata": {
    "application/vnd.databricks.v1+cell": {
     "cellMetadata": {
      "byteLimit": 2048000,
      "rowLimit": 10000
     },
     "inputWidgets": {},
     "nuid": "9b5c0091-9a63-40e0-8099-cea8b0f9ac1b",
     "showTitle": false,
     "title": ""
    }
   },
   "outputs": [],
   "source": [
    "import smtplib\n",
    "\n",
    "from email.mime.text import MIMEText\n",
    "\n",
    "msg = MIMEText(msg)\n",
    "msg['Subject'] = \"This is a test\""
   ]
  },
  {
   "cell_type": "code",
   "execution_count": 0,
   "metadata": {
    "application/vnd.databricks.v1+cell": {
     "cellMetadata": {
      "byteLimit": 2048000,
      "rowLimit": 10000
     },
     "inputWidgets": {},
     "nuid": "be5ed2ba-b1c5-4354-b03c-2243f26230d0",
     "showTitle": false,
     "title": ""
    }
   },
   "outputs": [
    {
     "output_type": "execute_result",
     "data": {
      "text/plain": [
       "(221, b'See you later. Yours truly, Mailgun')"
      ]
     },
     "execution_count": 16,
     "metadata": {},
     "output_type": "execute_result"
    }
   ],
   "source": [
    "s = smtplib.SMTP(f'smtp.mailgun.org:587')\n",
    "s.starttls() \n",
    "s.login('postmaster@sandbox2e398d4154b94645b6e18a3354596e60.mailgun.org',\n",
    "        '7c970da3c9af5139c06ed93f03edcde0-69a6bd85-1461e322')\n",
    "s.sendmail(f'nskp1990@gmail.com','nskp.sec19@gmail.com', msg.as_string())\n",
    "s.quit()"
   ]
  }
 ],
 "metadata": {
  "application/vnd.databricks.v1+notebook": {
   "dashboards": [],
   "language": "python",
   "notebookMetadata": {
    "pythonIndentUnit": 4
   },
   "notebookName": "JIRA_Upload",
   "widgets": {}
  }
 },
 "nbformat": 4,
 "nbformat_minor": 0
}
